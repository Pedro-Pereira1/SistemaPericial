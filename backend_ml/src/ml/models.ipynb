{
 "cells": [
  {
   "cell_type": "code",
   "metadata": {
    "ExecuteTime": {
     "end_time": "2025-01-10T22:44:08.559805Z",
     "start_time": "2025-01-10T22:43:59.910053Z"
    }
   },
   "source": [
    "import pandas as pd\n",
    "import numpy as np\n",
    "import time\n",
    "import joblib\n",
    "import matplotlib as plt\n",
    "from sklearn.preprocessing import StandardScaler\n",
    "from sklearn.model_selection import train_test_split, GridSearchCV, cross_val_score, ParameterGrid\n",
    "from sklearn.ensemble import RandomForestClassifier\n",
    "from sklearn.neighbors import KNeighborsClassifier\n",
    "from sklearn.metrics import accuracy_score, precision_score, recall_score, f1_score\n",
    "import xgboost as xgb\n",
    "from tensorflow.python.keras.models import Sequential\n",
    "#from tensorflow.python.keras.layers import Dense, Dropout, LSTM, Conv1D, MaxPooling1D, Conv1D, #MaxPooling1D\n",
    "from scikeras.wrappers import KerasClassifier\n",
    "import tensorflow as tf\n",
    "import warnings\n",
    "import shap\n",
    "from tqdm import tqdm\n",
    "import itertools\n",
    "warnings.filterwarnings('ignore')"
   ],
   "outputs": [
    {
     "name": "stderr",
     "output_type": "stream",
     "text": [
      "C:\\Users\\Ricardo\\Documents\\GitHub\\SistemaPericial\\backend_ml\\.venv\\lib\\site-packages\\tqdm\\auto.py:21: TqdmWarning: IProgress not found. Please update jupyter and ipywidgets. See https://ipywidgets.readthedocs.io/en/stable/user_install.html\n",
      "  from .autonotebook import tqdm as notebook_tqdm\n"
     ]
    }
   ],
   "execution_count": 2
  },
  {
   "cell_type": "markdown",
   "metadata": {},
   "source": [
    "# Data Preprocessing"
   ]
  },
  {
   "cell_type": "code",
   "metadata": {
    "ExecuteTime": {
     "end_time": "2025-01-10T22:44:37.235392Z",
     "start_time": "2025-01-10T22:44:14.494413Z"
    }
   },
   "source": [
    "# Set seed for reproducibility\n",
    "np.random.seed(42)\n",
    "\n",
    "# Load dataset\n",
    "data = pd.read_parquet(\"data/cic-collection.parquet\")  # Replace with the correct path to the dataset\n",
    "\n",
    "#data['ClassLabel'] = data['ClassLabel'].apply(lambda x: 0 if x == 'Benign' else 1)\n",
    "# Separate features and target\n",
    "X = data.drop(['Label','ClassLabel'], axis=1)  # Replace 'target' with the correct column name\n",
    "y = data['ClassLabel']\n",
    "\n",
    " #Encode target if categorical\n",
    "if y.dtype == 'object':\n",
    "   y = pd.factorize(y)[0]\n",
    "\n",
    "\n",
    "\n",
    "# Split the data\n",
    "X_train, X_test, y_train, y_test = train_test_split(X, y, test_size=0.3, stratify=y, random_state=42)"
   ],
   "outputs": [],
   "execution_count": 3
  },
  {
   "cell_type": "markdown",
   "metadata": {},
   "source": [
    "# Function to calculate metrics"
   ]
  },
  {
   "cell_type": "code",
   "metadata": {
    "ExecuteTime": {
     "end_time": "2025-01-10T22:44:49.712688Z",
     "start_time": "2025-01-10T22:44:49.682543Z"
    }
   },
   "source": [
    "def calculate_metrics(y_true, y_pred, training_time, inference_time):\n",
    "    return {\n",
    "        \"Accuracy\": round(accuracy_score(y_true, y_pred), 4),\n",
    "        \"Precision\": round(precision_score(y_true, y_pred, average=\"weighted\"), 4),\n",
    "        \"Recall\": round(recall_score(y_true, y_pred, average=\"weighted\"), 4),\n",
    "        \"F1\": round(f1_score(y_true, y_pred, average=\"weighted\"), 4),\n",
    "        \"Training Time\": round(training_time, 4),\n",
    "        \"Inference Time\": round(inference_time, 4),\n",
    "    }"
   ],
   "outputs": [],
   "execution_count": 4
  },
  {
   "cell_type": "markdown",
   "metadata": {},
   "source": [
    "# Random Forest"
   ]
  },
  {
   "cell_type": "code",
   "metadata": {},
   "source": [
    "rf = RandomForestClassifier(n_estimators=200, max_depth=None, min_samples_split=5, random_state=42, n_jobs=-1)\n",
    "\n",
    "# Train the model\n",
    "start = time.time()\n",
    "rf.fit(X_train, y_train)\n",
    "training_time = time.time() - start\n",
    "\n",
    "# Make predictions\n",
    "start = time.time()\n",
    "y_pred = rf.predict(X_test)\n",
    "inference_time = time.time() - start\n",
    "\n",
    "# Calculate metrics\n",
    "metrics = calculate_metrics(y_test, y_pred, training_time, inference_time)\n",
    "print(metrics)\n",
    "\n",
    "# Save the model\n",
    "joblib.dump(rf, \"random_forest.joblib\")"
   ],
   "outputs": [],
   "execution_count": null
  },
  {
   "cell_type": "code",
   "metadata": {
    "ExecuteTime": {
     "start_time": "2025-01-09T00:13:59.246593Z"
    }
   },
   "source": [
    "# XAI: SHAP Analysis\n",
    "import shap\n",
    "import torch\n",
    "import matplotlib.pyplot as plt\n",
    "torch.cuda.empty_cache()\n",
    "\n",
    "# Load the Random Forest model\n",
    "rf = joblib.load(\"random_forest.joblib\")\n",
    "\n",
    "# Define batch size\n",
    "batch_size = 500000\n",
    "\n",
    "# Create the SHAP explainer for the Random Forest model\n",
    "explainer = shap.TreeExplainer(rf)\n",
    "\n",
    "# List to store SHAP values\n",
    "shap_values_list = []\n",
    "\n",
    "# Iterate over batches of the test data\n",
    "for i in tqdm(range(0, len(X_test), batch_size)):\n",
    "    # Get SHAP values for the current batch\n",
    "    shap_values = explainer.shap_values(X_test.iloc[i:i + batch_size])\n",
    "    \n",
    "    # Handle multi-class case by averaging SHAP values\n",
    "    if isinstance(shap_values, list):  # Multi-class case\n",
    "        shap_values = np.array(shap_values).mean(axis=0)\n",
    "    \n",
    "    shap_values_list.append(shap_values)\n",
    "\n",
    "# Concatenate all SHAP values into a single array\n",
    "shap_values = np.concatenate(shap_values_list, axis=0)\n",
    "\n",
    "# Calculate the mean absolute SHAP values for each feature\n",
    "mean_abs_shap = np.mean(np.abs(shap_values), axis=0)\n",
    "\n",
    "# Get the indices of the top 10 features\n",
    "top_k_indices = np.argsort(mean_abs_shap)[-10:]\n",
    "\n",
    "# Print the shape of X_test and the top 10 feature indices\n",
    "top_k_indices_flat = top_k_indices[0]\n",
    "\n",
    "# Plot the summary SHAP plot for the top 10 features\n",
    "shap.summary_plot(shap_values[:, top_k_indices_flat], \n",
    "                  X_test.iloc[:, top_k_indices_flat], \n",
    "                  plot_type=\"bar\", show=False)\n",
    "\n",
    "# Save the generated figure\n",
    "plt.gcf().savefig(\"shap_rf_top10_features.png\", bbox_inches=\"tight\")\n",
    "plt.close()\n",
    "\n",
    "# Identify top 10 important features using feature importances from the Random Forest model\n",
    "feature_importance = rf.feature_importances_\n",
    "important_features = pd.Series(feature_importance, index=X_train.columns).sort_values(ascending=False)\n",
    "top_features = important_features.head(10)\n",
    "\n",
    "print(\"Top 10 Features:\\n\", top_features)\n",
    "print(\"SHAP global feature importance saved as 'shap_rf_top10_features.png'.\")"
   ],
   "outputs": [
    {
     "name": "stderr",
     "output_type": "stream",
     "text": [
      "  0%|          | 0/6 [00:00<?, ?it/s]"
     ]
    }
   ],
   "execution_count": null
  },
  {
   "cell_type": "markdown",
   "metadata": {},
   "source": [
    "# Normalize data"
   ]
  },
  {
   "cell_type": "code",
   "metadata": {},
   "source": [
    "scaler = StandardScaler()  # Use MinMaxScaler() if you prefer normalization to [0, 1]\n",
    "X_train = scaler.fit_transform(X_train)\n",
    "X_test = scaler.transform(X_test)"
   ],
   "outputs": [],
   "execution_count": null
  },
  {
   "cell_type": "markdown",
   "metadata": {},
   "source": [
    "# XGBoost"
   ]
  },
  {
   "cell_type": "code",
   "metadata": {},
   "source": [
    "xgb_model = xgb.XGBClassifier(n_estimators=200, learning_rate=0.1, max_depth=10, subsample=0.8, random_state=42,device=\"cuda\")\n",
    "\n",
    "# Train the model\n",
    "start = time.time()\n",
    "xgb_model.fit(X_train, y_train)\n",
    "training_time = time.time() - start\n",
    "\n",
    "# Make predictions\n",
    "start = time.time()\n",
    "y_pred = xgb_model.predict(X_test)\n",
    "inference_time = time.time() - start\n",
    "\n",
    "# Calculate metrics\n",
    "metrics = calculate_metrics(y_test, y_pred, training_time, inference_time)\n",
    "print(metrics)\n",
    "\n",
    "# Save the model\n",
    "joblib.dump(xgb_model, \"xgboost.joblib\")"
   ],
   "outputs": [],
   "execution_count": null
  },
  {
   "metadata": {},
   "cell_type": "code",
   "source": [
    "print(X_test.shape)  # Deve mostrar (n_amostras, n_features)\n",
    "print(f\"X_test shape: {X_test.shape}\")\n",
    "print(f\"Top k indices: {top_k_indices}\")\n",
    "\n"
   ],
   "outputs": [],
   "execution_count": null
  },
  {
   "cell_type": "code",
   "metadata": {},
   "source": [
    "# XAI: SHAP Analysis\n",
    "import shap\n",
    "import torch\n",
    "import joblib\n",
    "import numpy as np\n",
    "import matplotlib.pyplot as plt\n",
    "from tqdm import tqdm\n",
    "\n",
    "torch.cuda.empty_cache()\n",
    "\n",
    "# Load the model\n",
    "xgb_model = joblib.load(\"xgboost.joblib\")\n",
    "\n",
    "# Define batch size\n",
    "batch_size = 500000\n",
    "\n",
    "# Create the SHAP explainer for the XGBoost model\n",
    "explainer = shap.TreeExplainer(xgb_model)\n",
    "\n",
    "# List to store SHAP values\n",
    "shap_values_list = []\n",
    "\n",
    "# Iterate over batches of the test data\n",
    "for i in tqdm(range(0, len(X_test), batch_size)):\n",
    "    # Get SHAP values for the current batch\n",
    "    shap_values = explainer.shap_values(X_test.iloc[i:i + batch_size])\n",
    "    \n",
    "    # Handle multi-class case by averaging SHAP values\n",
    "    if isinstance(shap_values, list):  # Multi-class case\n",
    "        shap_values = np.array(shap_values).mean(axis=0)\n",
    "    \n",
    "    shap_values_list.append(shap_values)\n",
    "\n",
    "# Concatenate all SHAP values into a single array\n",
    "shap_values = np.concatenate(shap_values_list, axis=0)\n",
    "\n",
    "# Calculate the mean absolute SHAP values for each feature\n",
    "mean_abs_shap = np.mean(np.abs(shap_values), axis=0)\n",
    "\n",
    "# Get the indices of the top 10 features\n",
    "top_k_indices = np.argsort(mean_abs_shap)[-10:]\n",
    "\n",
    "# Print the shape of X_test and the top 10 feature indices\n",
    "top_k_indices_flat = top_k_indices[0]\n",
    "\n",
    "# Plot the summary SHAP plot for the top 10 features\n",
    "shap.summary_plot(shap_values[:, top_k_indices_flat], \n",
    "                  X_test.iloc[:, top_k_indices_flat], \n",
    "                  plot_type=\"bar\", show=False)\n",
    "\n",
    "# Save the generated figure\n",
    "plt.gcf().savefig(\"shap_xgboost_force_plot_top10_features.png\", bbox_inches=\"tight\")\n",
    "plt.close()\n"
   ],
   "outputs": [],
   "execution_count": null
  },
  {
   "metadata": {},
   "cell_type": "markdown",
   "source": " # LIGHTGBM"
  },
  {
   "metadata": {},
   "cell_type": "code",
   "source": [
    "import lightgbm as lgbm\n",
    "lgbm_model = lgbm.LGBMClassifier(n_estimators=200, learning_rate=0.1, max_depth=10, num_leaves=63, random_state=42, force_col_wise=\"true\")\n",
    "\n",
    "start = time.time()\n",
    "lgbm_model.fit(X_train, y_train)\n",
    "training_time = time.time() - start\n",
    "\n",
    "start = time.time()\n",
    "y_pred = lgbm_model.predict(X_test)\n",
    "inference_time = time.time() - start\n",
    "\n",
    "metrics = calculate_metrics(y_test, y_pred, training_time, inference_time)\n",
    "print(metrics)\n",
    "\n",
    "joblib.dump(lgbm_model, \"lightgbm.joblib\")"
   ],
   "outputs": [],
   "execution_count": null
  },
  {
   "metadata": {},
   "cell_type": "code",
   "outputs": [],
   "execution_count": null,
   "source": [
    "# XAI: SHAP Analysis\n",
    "import shap\n",
    "import torch\n",
    "import joblib\n",
    "import numpy as np\n",
    "import matplotlib.pyplot as plt\n",
    "from tqdm import tqdm\n",
    "\n",
    "torch.cuda.empty_cache()\n",
    "\n",
    "# Load the model\n",
    "lgbm_model = joblib.load(\"lightgbm.joblib\")\n",
    "\n",
    "# Define batch size\n",
    "batch_size = 500000\n",
    "\n",
    "# Create the SHAP explainer for the LightGBM model\n",
    "explainer = shap.TreeExplainer(lgbm_model)\n",
    "\n",
    "# List to store SHAP values\n",
    "shap_values_list = []\n",
    "\n",
    "# Iterate over batches of the test data\n",
    "for i in tqdm(range(0, len(X_test), batch_size)):\n",
    "    # Get SHAP values for the current batch\n",
    "    shap_values = explainer.shap_values(X_test.iloc[i:i + batch_size])\n",
    "    \n",
    "    # Handle multi-class case by averaging SHAP values\n",
    "    if isinstance(shap_values, list):  # Multi-class case\n",
    "        shap_values = np.array(shap_values).mean(axis=0)\n",
    "    \n",
    "    shap_values_list.append(shap_values)\n",
    "    \n",
    "# Concatenate all SHAP values into a single array\n",
    "shap_values = np.concatenate(shap_values_list, axis=0)\n",
    "\n",
    "# Calculate the mean absolute SHAP values for each feature\n",
    "mean_abs_shap = np.mean(np.abs(shap_values), axis=0)\n",
    "\n",
    "# Get the indices of the top 10 features\n",
    "top_k_indices = np.argsort(mean_abs_shap)[-10:]\n",
    "\n",
    "# Print the shape of X_test and the top 10 feature indices\n",
    "top_k_indices_flat = top_k_indices[0]\n",
    "\n",
    "# Plot the summary SHAP plot for the top 10 features\n",
    "shap.summary_plot(shap_values[:, top_k_indices_flat], \n",
    "                  X_test.iloc[:, top_k_indices_flat], \n",
    "                  plot_type=\"bar\", show=False)\n",
    "\n"
   ]
  },
  {
   "metadata": {},
   "cell_type": "markdown",
   "source": "# CNN_RNN"
  },
  {
   "metadata": {},
   "cell_type": "markdown",
   "source": ""
  },
  {
   "metadata": {
    "ExecuteTime": {
     "end_time": "2025-01-10T22:50:01.261288Z",
     "start_time": "2025-01-10T22:50:01.233409Z"
    }
   },
   "cell_type": "code",
   "source": [
    "from tensorflow.keras.models import Sequential\n",
    "from tensorflow.keras.layers import Conv1D, BatchNormalization, MaxPooling1D, LSTM, Dropout, Dense\n",
    "import numpy as np\n",
    "import tensorflow as tf\n",
    "\n",
    "def create_best_cnn_rnn_model():\n",
    "    model = Sequential([\n",
    "        Conv1D(64, 3, activation='relu', kernel_initializer='he_uniform', input_shape=(X_train_dl.shape[1], 1)),\n",
    "        BatchNormalization(),\n",
    "        MaxPooling1D(pool_size=2),\n",
    "        LSTM(64, return_sequences=False),  # Use Keras' LSTM\n",
    "        Dropout(0.3),\n",
    "        Dense(128, activation='relu', kernel_initializer='he_uniform'),\n",
    "        Dropout(0.3),\n",
    "        Dense(len(np.unique(y_train)), activation='softmax')\n",
    "    ])\n",
    "    model.compile(optimizer=tf.keras.optimizers.Adam(learning_rate=0.001),\n",
    "                  loss='categorical_crossentropy',\n",
    "                  metrics=['accuracy'])\n",
    "    return model\n"
   ],
   "outputs": [],
   "execution_count": 14
  },
  {
   "metadata": {},
   "cell_type": "markdown",
   "source": "# Preparar os dados para treino"
  },
  {
   "metadata": {
    "ExecuteTime": {
     "end_time": "2025-01-10T22:45:31.295308Z",
     "start_time": "2025-01-10T22:45:24.424633Z"
    }
   },
   "cell_type": "code",
   "source": [
    "from keras.src.utils import to_categorical\n",
    "\n",
    "X_train_dl = np.expand_dims(X_train, axis=2)\n",
    "X_test_dl = np.expand_dims(X_test, axis=2)\n",
    "y_train_dl = to_categorical(y_train)\n",
    "y_test_dl = to_categorical(y_test)"
   ],
   "outputs": [],
   "execution_count": 6
  },
  {
   "metadata": {
    "ExecuteTime": {
     "end_time": "2025-01-11T04:37:08.092355Z",
     "start_time": "2025-01-10T22:50:05.646698Z"
    }
   },
   "cell_type": "code",
   "source": [
    "\n",
    "best_model = create_best_cnn_rnn_model()\n",
    "start_time = time.time()\n",
    "history = best_model.fit(\n",
    "    X_train_dl, y_train_dl,\n",
    "    validation_data=(X_test_dl, y_test_dl),\n",
    "    batch_size=32,\n",
    "    epochs=10,\n",
    "    verbose=1\n",
    ")\n",
    "training_time = time.time() - start_time"
   ],
   "outputs": [
    {
     "name": "stdout",
     "output_type": "stream",
     "text": [
      "Epoch 1/10\n",
      "\u001B[1m200541/200541\u001B[0m \u001B[32m━━━━━━━━━━━━━━━━━━━━\u001B[0m\u001B[37m\u001B[0m \u001B[1m1938s\u001B[0m 10ms/step - accuracy: 0.9343 - loss: 0.2207 - val_accuracy: 0.8383 - val_loss: 0.5497\n",
      "Epoch 2/10\n",
      "\u001B[1m200541/200541\u001B[0m \u001B[32m━━━━━━━━━━━━━━━━━━━━\u001B[0m\u001B[37m\u001B[0m \u001B[1m2053s\u001B[0m 10ms/step - accuracy: 0.9730 - loss: 0.1049 - val_accuracy: 0.8522 - val_loss: 0.6124\n",
      "Epoch 3/10\n",
      "\u001B[1m200541/200541\u001B[0m \u001B[32m━━━━━━━━━━━━━━━━━━━━\u001B[0m\u001B[37m\u001B[0m \u001B[1m2021s\u001B[0m 10ms/step - accuracy: 0.9763 - loss: 0.0952 - val_accuracy: 0.8671 - val_loss: 0.5734\n",
      "Epoch 4/10\n",
      "\u001B[1m200541/200541\u001B[0m \u001B[32m━━━━━━━━━━━━━━━━━━━━\u001B[0m\u001B[37m\u001B[0m \u001B[1m2050s\u001B[0m 10ms/step - accuracy: 0.9774 - loss: 0.0916 - val_accuracy: 0.8704 - val_loss: 0.5611\n",
      "Epoch 5/10\n",
      "\u001B[1m200541/200541\u001B[0m \u001B[32m━━━━━━━━━━━━━━━━━━━━\u001B[0m\u001B[37m\u001B[0m \u001B[1m2120s\u001B[0m 11ms/step - accuracy: 0.9782 - loss: 0.0901 - val_accuracy: 0.8690 - val_loss: 0.6528\n",
      "Epoch 6/10\n",
      "\u001B[1m200541/200541\u001B[0m \u001B[32m━━━━━━━━━━━━━━━━━━━━\u001B[0m\u001B[37m\u001B[0m \u001B[1m1970s\u001B[0m 10ms/step - accuracy: 0.9789 - loss: 0.0888 - val_accuracy: 0.7541 - val_loss: 0.8188\n",
      "Epoch 7/10\n",
      "\u001B[1m200541/200541\u001B[0m \u001B[32m━━━━━━━━━━━━━━━━━━━━\u001B[0m\u001B[37m\u001B[0m \u001B[1m2115s\u001B[0m 11ms/step - accuracy: 0.9798 - loss: 0.0858 - val_accuracy: 0.8978 - val_loss: 0.3423\n",
      "Epoch 8/10\n",
      "\u001B[1m200541/200541\u001B[0m \u001B[32m━━━━━━━━━━━━━━━━━━━━\u001B[0m\u001B[37m\u001B[0m \u001B[1m2177s\u001B[0m 11ms/step - accuracy: 0.9799 - loss: 0.0856 - val_accuracy: 0.8880 - val_loss: 0.4190\n",
      "Epoch 9/10\n",
      "\u001B[1m200541/200541\u001B[0m \u001B[32m━━━━━━━━━━━━━━━━━━━━\u001B[0m\u001B[37m\u001B[0m \u001B[1m2192s\u001B[0m 11ms/step - accuracy: 0.9801 - loss: 0.0850 - val_accuracy: 0.8937 - val_loss: 0.3676\n",
      "Epoch 10/10\n",
      "\u001B[1m200541/200541\u001B[0m \u001B[32m━━━━━━━━━━━━━━━━━━━━\u001B[0m\u001B[37m\u001B[0m \u001B[1m2172s\u001B[0m 11ms/step - accuracy: 0.9803 - loss: 0.0844 - val_accuracy: 0.9197 - val_loss: 0.3490\n"
     ]
    }
   ],
   "execution_count": 15
  },
  {
   "metadata": {},
   "cell_type": "markdown",
   "source": "# Avaliar o modelo\n"
  },
  {
   "metadata": {
    "ExecuteTime": {
     "end_time": "2025-01-11T12:33:07.056995Z",
     "start_time": "2025-01-11T12:28:57.509514Z"
    }
   },
   "cell_type": "code",
   "source": [
    "start_inference = time.time()\n",
    "y_pred = np.argmax(best_model.predict(X_test_dl), axis=1)\n",
    "inference_time = time.time() - start_inference\n",
    "\n",
    "y_true = np.argmax(y_test_dl, axis=1)\n",
    "\n",
    "metrics = calculate_metrics(y_true, y_pred, training_time, inference_time)\n",
    "print(metrics)\n",
    "\n",
    "joblib.dump(metrics, 'model_metrics.joblib')"
   ],
   "outputs": [
    {
     "name": "stdout",
     "output_type": "stream",
     "text": [
      "\u001B[1m85947/85947\u001B[0m \u001B[32m━━━━━━━━━━━━━━━━━━━━\u001B[0m\u001B[37m\u001B[0m \u001B[1m217s\u001B[0m 3ms/step\n",
      "{'Accuracy': 0.9197, 'Precision': np.float64(0.907), 'Recall': np.float64(0.9197), 'F1': np.float64(0.909), 'Training Time': 20822.1642, 'Inference Time': 248.5197}\n"
     ]
    },
    {
     "data": {
      "text/plain": [
       "['model_metrics.joblib']"
      ]
     },
     "execution_count": 16,
     "metadata": {},
     "output_type": "execute_result"
    }
   ],
   "execution_count": 16
  },
  {
   "metadata": {
    "ExecuteTime": {
     "end_time": "2025-01-13T22:09:48.522009Z",
     "start_time": "2025-01-13T22:09:47.794833Z"
    }
   },
   "cell_type": "code",
   "source": "joblib.dump(best_model, 'cnn_rnn.joblib')",
   "outputs": [
    {
     "data": {
      "text/plain": [
       "['cnn_rnn_model.joblib']"
      ]
     },
     "execution_count": 17,
     "metadata": {},
     "output_type": "execute_result"
    }
   ],
   "execution_count": 17
  }
 ],
 "metadata": {
  "kernelspec": {
   "display_name": "Python 3",
   "language": "python",
   "name": "python3"
  },
  "language_info": {
   "codemirror_mode": {
    "name": "ipython",
    "version": 3
   },
   "file_extension": ".py",
   "mimetype": "text/x-python",
   "name": "python",
   "nbconvert_exporter": "python",
   "pygments_lexer": "ipython3",
   "version": "3.12.2"
  }
 },
 "nbformat": 4,
 "nbformat_minor": 2
}
